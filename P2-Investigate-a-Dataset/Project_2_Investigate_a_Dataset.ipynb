{
 "cells": [
  {
   "cell_type": "markdown",
   "metadata": {},
   "source": [
    "# Who survived in Titanic? "
   ]
  },
  {
   "cell_type": "markdown",
   "metadata": {},
   "source": [
    "## 1. Introduction"
   ]
  },
  {
   "cell_type": "markdown",
   "metadata": {},
   "source": [
    "In this report, I am exploring what types of passengers are more likely to survive in Titanic based on the data provided by Kaggle. "
   ]
  },
  {
   "cell_type": "markdown",
   "metadata": {},
   "source": [
    "## 2. Analysis"
   ]
  },
  {
   "cell_type": "markdown",
   "metadata": {},
   "source": [
    "Date import and cleaning"
   ]
  },
  {
   "cell_type": "code",
   "execution_count": 1,
   "metadata": {
    "collapsed": false,
    "scrolled": true
   },
   "outputs": [
    {
     "data": {
      "text/html": [
       "<div>\n",
       "<table border=\"1\" class=\"dataframe\">\n",
       "  <thead>\n",
       "    <tr style=\"text-align: right;\">\n",
       "      <th></th>\n",
       "      <th>PassengerId</th>\n",
       "      <th>Survived</th>\n",
       "      <th>Pclass</th>\n",
       "      <th>Name</th>\n",
       "      <th>Sex</th>\n",
       "      <th>Age</th>\n",
       "      <th>SibSp</th>\n",
       "      <th>Parch</th>\n",
       "      <th>Ticket</th>\n",
       "      <th>Fare</th>\n",
       "      <th>Cabin</th>\n",
       "      <th>Embarked</th>\n",
       "    </tr>\n",
       "  </thead>\n",
       "  <tbody>\n",
       "    <tr>\n",
       "      <th>0</th>\n",
       "      <td>1</td>\n",
       "      <td>0</td>\n",
       "      <td>3</td>\n",
       "      <td>Braund, Mr. Owen Harris</td>\n",
       "      <td>male</td>\n",
       "      <td>22.0</td>\n",
       "      <td>1</td>\n",
       "      <td>0</td>\n",
       "      <td>A/5 21171</td>\n",
       "      <td>7.2500</td>\n",
       "      <td>NaN</td>\n",
       "      <td>S</td>\n",
       "    </tr>\n",
       "    <tr>\n",
       "      <th>1</th>\n",
       "      <td>2</td>\n",
       "      <td>1</td>\n",
       "      <td>1</td>\n",
       "      <td>Cumings, Mrs. John Bradley (Florence Briggs Th...</td>\n",
       "      <td>female</td>\n",
       "      <td>38.0</td>\n",
       "      <td>1</td>\n",
       "      <td>0</td>\n",
       "      <td>PC 17599</td>\n",
       "      <td>71.2833</td>\n",
       "      <td>C85</td>\n",
       "      <td>C</td>\n",
       "    </tr>\n",
       "    <tr>\n",
       "      <th>2</th>\n",
       "      <td>3</td>\n",
       "      <td>1</td>\n",
       "      <td>3</td>\n",
       "      <td>Heikkinen, Miss. Laina</td>\n",
       "      <td>female</td>\n",
       "      <td>26.0</td>\n",
       "      <td>0</td>\n",
       "      <td>0</td>\n",
       "      <td>STON/O2. 3101282</td>\n",
       "      <td>7.9250</td>\n",
       "      <td>NaN</td>\n",
       "      <td>S</td>\n",
       "    </tr>\n",
       "    <tr>\n",
       "      <th>3</th>\n",
       "      <td>4</td>\n",
       "      <td>1</td>\n",
       "      <td>1</td>\n",
       "      <td>Futrelle, Mrs. Jacques Heath (Lily May Peel)</td>\n",
       "      <td>female</td>\n",
       "      <td>35.0</td>\n",
       "      <td>1</td>\n",
       "      <td>0</td>\n",
       "      <td>113803</td>\n",
       "      <td>53.1000</td>\n",
       "      <td>C123</td>\n",
       "      <td>S</td>\n",
       "    </tr>\n",
       "    <tr>\n",
       "      <th>4</th>\n",
       "      <td>5</td>\n",
       "      <td>0</td>\n",
       "      <td>3</td>\n",
       "      <td>Allen, Mr. William Henry</td>\n",
       "      <td>male</td>\n",
       "      <td>35.0</td>\n",
       "      <td>0</td>\n",
       "      <td>0</td>\n",
       "      <td>373450</td>\n",
       "      <td>8.0500</td>\n",
       "      <td>NaN</td>\n",
       "      <td>S</td>\n",
       "    </tr>\n",
       "  </tbody>\n",
       "</table>\n",
       "</div>"
      ],
      "text/plain": [
       "   PassengerId  Survived  Pclass  \\\n",
       "0            1         0       3   \n",
       "1            2         1       1   \n",
       "2            3         1       3   \n",
       "3            4         1       1   \n",
       "4            5         0       3   \n",
       "\n",
       "                                                Name     Sex   Age  SibSp  \\\n",
       "0                            Braund, Mr. Owen Harris    male  22.0      1   \n",
       "1  Cumings, Mrs. John Bradley (Florence Briggs Th...  female  38.0      1   \n",
       "2                             Heikkinen, Miss. Laina  female  26.0      0   \n",
       "3       Futrelle, Mrs. Jacques Heath (Lily May Peel)  female  35.0      1   \n",
       "4                           Allen, Mr. William Henry    male  35.0      0   \n",
       "\n",
       "   Parch            Ticket     Fare Cabin Embarked  \n",
       "0      0         A/5 21171   7.2500   NaN        S  \n",
       "1      0          PC 17599  71.2833   C85        C  \n",
       "2      0  STON/O2. 3101282   7.9250   NaN        S  \n",
       "3      0            113803  53.1000  C123        S  \n",
       "4      0            373450   8.0500   NaN        S  "
      ]
     },
     "execution_count": 1,
     "metadata": {},
     "output_type": "execute_result"
    }
   ],
   "source": [
    "import numpy as np\n",
    "import pandas as pd\n",
    "import matplotlib.pyplot as plt\n",
    "import seaborn as sns\n",
    "%matplotlib inline\n",
    "\n",
    "titanic_df = pd.read_csv('D:/Dropbox/Data-Analysis/p2/titanic-data.csv')\n",
    "\n",
    "titanic_df.head()"
   ]
  },
  {
   "cell_type": "markdown",
   "metadata": {},
   "source": [
    "To have a general idea of the difference between survived and nonsurvived, I group the data by \"Survived\" column"
   ]
  },
  {
   "cell_type": "code",
   "execution_count": 2,
   "metadata": {
    "collapsed": false
   },
   "outputs": [
    {
     "data": {
      "text/html": [
       "<div>\n",
       "<table border=\"1\" class=\"dataframe\">\n",
       "  <thead>\n",
       "    <tr style=\"text-align: right;\">\n",
       "      <th></th>\n",
       "      <th>PassengerId</th>\n",
       "      <th>Pclass</th>\n",
       "      <th>Age</th>\n",
       "      <th>SibSp</th>\n",
       "      <th>Parch</th>\n",
       "      <th>Fare</th>\n",
       "    </tr>\n",
       "    <tr>\n",
       "      <th>Survived</th>\n",
       "      <th></th>\n",
       "      <th></th>\n",
       "      <th></th>\n",
       "      <th></th>\n",
       "      <th></th>\n",
       "      <th></th>\n",
       "    </tr>\n",
       "  </thead>\n",
       "  <tbody>\n",
       "    <tr>\n",
       "      <th>0</th>\n",
       "      <td>447.016393</td>\n",
       "      <td>2.531876</td>\n",
       "      <td>30.626179</td>\n",
       "      <td>0.553734</td>\n",
       "      <td>0.329690</td>\n",
       "      <td>22.117887</td>\n",
       "    </tr>\n",
       "    <tr>\n",
       "      <th>1</th>\n",
       "      <td>444.368421</td>\n",
       "      <td>1.950292</td>\n",
       "      <td>28.343690</td>\n",
       "      <td>0.473684</td>\n",
       "      <td>0.464912</td>\n",
       "      <td>48.395408</td>\n",
       "    </tr>\n",
       "  </tbody>\n",
       "</table>\n",
       "</div>"
      ],
      "text/plain": [
       "          PassengerId    Pclass        Age     SibSp     Parch       Fare\n",
       "Survived                                                                 \n",
       "0          447.016393  2.531876  30.626179  0.553734  0.329690  22.117887\n",
       "1          444.368421  1.950292  28.343690  0.473684  0.464912  48.395408"
      ]
     },
     "execution_count": 2,
     "metadata": {},
     "output_type": "execute_result"
    }
   ],
   "source": [
    "titanic_df.groupby('Survived').mean()"
   ]
  },
  {
   "cell_type": "markdown",
   "metadata": {},
   "source": [
    "It seems Pclass, Age, SibSp, Parch, Fare have different mean values between survived and nonsurvived. I will later investigate each of these factors."
   ]
  },
  {
   "cell_type": "code",
   "execution_count": 3,
   "metadata": {
    "collapsed": false
   },
   "outputs": [
    {
     "name": "stdout",
     "output_type": "stream",
     "text": [
      "Number of total passengers: 2224\n",
      "Number of total non-survive passengers: 1502\n",
      "Number of total survive passengers: 722\n",
      "Non survival proportion in population: 0.67535971223\n",
      "\n",
      "Number of sample passengers 891\n",
      "Number of sample non-survive passengers: 549\n",
      "Number of sample survive passengers: 342\n",
      "Non survival proportion in sample: 0.616161616162\n",
      "\n",
      "Missing data number of passengers 1333\n",
      "Missing data number of non-survived passengers: 953\n",
      "Missing data number of survived passengers: 380\n",
      "Non survival proportion in missing data: 0.714928732183\n"
     ]
    }
   ],
   "source": [
    "population = 2224\n",
    "total_non_survival = 1502\n",
    "total_survival = population - total_non_survival\n",
    "sample_non_survival = titanic_df.groupby('Survived')['Survived'].count()[0]\n",
    "sample_survival = titanic_df.groupby('Survived')['Survived'].count()[1]\n",
    "sample = titanic_df['PassengerId'].count()\n",
    "missing_data = population - sample\n",
    "print 'Number of total passengers:',population\n",
    "print 'Number of total non-survive passengers:',total_non_survival\n",
    "print 'Number of total survive passengers:',total_survival\n",
    "print 'Non survival proportion in population:',1.0*total_non_survival/population\n",
    "print ''\n",
    "print 'Number of sample passengers',sample\n",
    "print 'Number of sample non-survive passengers:',sample_non_survival\n",
    "print 'Number of sample survive passengers:',sample_survival\n",
    "print 'Non survival proportion in sample:',1.0*sample_non_survival/sample\n",
    "print ''\n",
    "print 'Missing data number of passengers', missing_data\n",
    "print 'Missing data number of non-survived passengers:',total_non_survival - sample_non_survival\n",
    "print 'Missing data number of survived passengers:', total_survival-sample_survival\n",
    "print 'Non survival proportion in missing data:',1.0*(total_non_survival - sample_non_survival)/missing_data\n"
   ]
  },
  {
   "cell_type": "markdown",
   "metadata": {},
   "source": [
    "It is known that 1502 out of 2224 passengers on Titanic didn't survived. Here we have 891 passengers data available, 1333 passengers data not available, about 60% of all passengers. This lack of information of other passengers is probably related to how the data was collected, which may not be randomly selected. Thus this sample may not represent the population statistics. \n",
    "\n",
    "In addition, the proportion of non survival passengers in the missing data is higher (0.71) than population (0.67). This may be related to the fact that it was more difficult to collect data from dead passengers who was sinking to the bottom of the ocean. Therefore, it suggests that the sample population may be biased towards survivors, so called survival bias. "
   ]
  },
  {
   "cell_type": "code",
   "execution_count": 4,
   "metadata": {
    "collapsed": false
   },
   "outputs": [
    {
     "name": "stdout",
     "output_type": "stream",
     "text": [
      "PassengerId    891\n",
      "Survived       891\n",
      "Pclass         891\n",
      "Name           891\n",
      "Sex            891\n",
      "Age            714\n",
      "SibSp          891\n",
      "Parch          891\n",
      "Ticket         891\n",
      "Fare           891\n",
      "Cabin          204\n",
      "Embarked       889\n",
      "dtype: int64\n"
     ]
    }
   ],
   "source": [
    "numbers = titanic_df.count()\n",
    "print numbers"
   ]
  },
  {
   "cell_type": "markdown",
   "metadata": {},
   "source": [
    "From the count results, the numbers of Age, Cabin, and Embarked are smaller than the number of Passengers data here (which is 891). This suggests that there are missing values for these 3 columns. In later analysis, when using the data from these three fields, I will first remove the missing values and then do further analysis. "
   ]
  },
  {
   "cell_type": "markdown",
   "metadata": {},
   "source": [
    "First, I will investigate how age was correlated with survival. Since it seems that the total count of age is smaller than the number of passengers, indicating missing values, I will first print out one sample of missing age and then drop passengers whose age data is missing. Notice that after cleaning missing values for age column, some passengers don't have Cabin or Embarked information. Since I'm not going to research Cabin and Embarked information in this study, I will only drop NaN for Age column. "
   ]
  },
  {
   "cell_type": "code",
   "execution_count": 5,
   "metadata": {
    "collapsed": false
   },
   "outputs": [
    {
     "name": "stdout",
     "output_type": "stream",
     "text": [
      "A passenger without Age information\n",
      "\n",
      "PassengerId                   6\n",
      "Survived                      0\n",
      "Pclass                        3\n",
      "Name           Moran, Mr. James\n",
      "Sex                        male\n",
      "Age                         NaN\n",
      "SibSp                         0\n",
      "Parch                         0\n",
      "Ticket                   330877\n",
      "Fare                     8.4583\n",
      "Cabin                       NaN\n",
      "Embarked                      Q\n",
      "Name: 5, dtype: object\n"
     ]
    }
   ],
   "source": [
    "N = titanic_df['PassengerId'].count()\n",
    "\n",
    "i = 0\n",
    "while i < N:\n",
    "    if pd.isnull(titanic_df['Age'][i]):\n",
    "        print 'A passenger without Age information'\n",
    "        print ''\n",
    "        print titanic_df.iloc[i]\n",
    "        break\n",
    "    i = i + 1 "
   ]
  },
  {
   "cell_type": "code",
   "execution_count": 6,
   "metadata": {
    "collapsed": false
   },
   "outputs": [
    {
     "name": "stdout",
     "output_type": "stream",
     "text": [
      "total missing age numebr:  177\n",
      "proportion of passengers with missing age information who survived and who didn't:\n",
      "1    0.293785\n",
      "0    0.706215\n",
      "Name: Survived, dtype: float64\n"
     ]
    }
   ],
   "source": [
    "missing_survival = titanic_df[titanic_df['Age'].isnull()]\n",
    "missing_survival_s = missing_survival['Survived']\n",
    "\n",
    "print \"total missing age numebr: \", missing_survival_s.count()\n",
    "print \"proportion of passengers with missing age information who survived and who didn't:\"\n",
    "print missing_survival_s.value_counts(1,ascending=True)"
   ]
  },
  {
   "cell_type": "markdown",
   "metadata": {},
   "source": [
    "Of missing age passengers 70% didn't survive. This may explain the reason of missing age information because if a passenger didn't survive and body not found later, it would be impossible to identify his/her age. \n",
    "\n",
    "Of missing age passengers, 30% eventually survived. This may be due to mistakes during data collection, some passengers refused to declare their age, or couldn't identify their birth year. "
   ]
  },
  {
   "cell_type": "code",
   "execution_count": 7,
   "metadata": {
    "collapsed": false
   },
   "outputs": [
    {
     "data": {
      "text/plain": [
       "PassengerId    714\n",
       "Survived       714\n",
       "Pclass         714\n",
       "Name           714\n",
       "Sex            714\n",
       "Age            714\n",
       "SibSp          714\n",
       "Parch          714\n",
       "Ticket         714\n",
       "Fare           714\n",
       "Cabin          185\n",
       "Embarked       712\n",
       "dtype: int64"
      ]
     },
     "execution_count": 7,
     "metadata": {},
     "output_type": "execute_result"
    }
   ],
   "source": [
    "agesex_df = titanic_df.dropna(subset = ['Age'])\n",
    "agesex_df.count()"
   ]
  },
  {
   "cell_type": "code",
   "execution_count": 8,
   "metadata": {
    "collapsed": false
   },
   "outputs": [
    {
     "name": "stdout",
     "output_type": "stream",
     "text": [
      "Before dropna Age count = 714\n",
      "After dropna Age count = 714\n",
      "Before dropna Total Passengers = 891\n",
      "After dropna Total Passengers = 714\n"
     ]
    }
   ],
   "source": [
    "print \"Before dropna Age count =\", titanic_df['Age'].count()\n",
    "print \"After dropna Age count =\", agesex_df['Age'].count()\n",
    "print \"Before dropna Total Passengers =\", titanic_df['PassengerId'].count()\n",
    "print \"After dropna Total Passengers =\", agesex_df['PassengerId'].count()"
   ]
  },
  {
   "cell_type": "markdown",
   "metadata": {},
   "source": [
    "Pandas count() before dropping missing values only counts valid data, ignores NaN values. So count by 'Age' column before dropna is same as after dropna while total numebr of passengers drops from 891 to 714. "
   ]
  },
  {
   "cell_type": "code",
   "execution_count": 9,
   "metadata": {
    "collapsed": false
   },
   "outputs": [
    {
     "name": "stdout",
     "output_type": "stream",
     "text": [
      "Percentage of missing age = 19.8653198653 %\n"
     ]
    }
   ],
   "source": [
    "print \"Percentage of missing age =\", (1.0 - 1.0*agesex_df['Age'].count()/titanic_df['PassengerId'].count())*100, \"%\""
   ]
  },
  {
   "cell_type": "markdown",
   "metadata": {},
   "source": [
    "I dropped 20% of all available passenger information by missing values in age, and this is quite a substantial amount of data being dropped. And given there were 2224 passengers in total on Titanic, the sample here was 714, 30% of the population. The conclusion drawn from the sample may not be accurate depending how the sample was collected. "
   ]
  },
  {
   "cell_type": "code",
   "execution_count": 10,
   "metadata": {
    "collapsed": false
   },
   "outputs": [
    {
     "data": {
      "text/html": [
       "<div>\n",
       "<table border=\"1\" class=\"dataframe\">\n",
       "  <thead>\n",
       "    <tr style=\"text-align: right;\">\n",
       "      <th></th>\n",
       "      <th>PassengerId</th>\n",
       "      <th>Survived</th>\n",
       "      <th>Pclass</th>\n",
       "      <th>Name</th>\n",
       "      <th>Sex</th>\n",
       "      <th>Age</th>\n",
       "      <th>SibSp</th>\n",
       "      <th>Parch</th>\n",
       "      <th>Ticket</th>\n",
       "      <th>Fare</th>\n",
       "      <th>Cabin</th>\n",
       "      <th>Embarked</th>\n",
       "    </tr>\n",
       "  </thead>\n",
       "  <tbody>\n",
       "    <tr>\n",
       "      <th>0</th>\n",
       "      <td>1</td>\n",
       "      <td>0</td>\n",
       "      <td>3</td>\n",
       "      <td>Braund, Mr. Owen Harris</td>\n",
       "      <td>male</td>\n",
       "      <td>22.0</td>\n",
       "      <td>1</td>\n",
       "      <td>0</td>\n",
       "      <td>A/5 21171</td>\n",
       "      <td>7.2500</td>\n",
       "      <td>NaN</td>\n",
       "      <td>S</td>\n",
       "    </tr>\n",
       "    <tr>\n",
       "      <th>1</th>\n",
       "      <td>2</td>\n",
       "      <td>1</td>\n",
       "      <td>1</td>\n",
       "      <td>Cumings, Mrs. John Bradley (Florence Briggs Th...</td>\n",
       "      <td>female</td>\n",
       "      <td>38.0</td>\n",
       "      <td>1</td>\n",
       "      <td>0</td>\n",
       "      <td>PC 17599</td>\n",
       "      <td>71.2833</td>\n",
       "      <td>C85</td>\n",
       "      <td>C</td>\n",
       "    </tr>\n",
       "    <tr>\n",
       "      <th>2</th>\n",
       "      <td>3</td>\n",
       "      <td>1</td>\n",
       "      <td>3</td>\n",
       "      <td>Heikkinen, Miss. Laina</td>\n",
       "      <td>female</td>\n",
       "      <td>26.0</td>\n",
       "      <td>0</td>\n",
       "      <td>0</td>\n",
       "      <td>STON/O2. 3101282</td>\n",
       "      <td>7.9250</td>\n",
       "      <td>NaN</td>\n",
       "      <td>S</td>\n",
       "    </tr>\n",
       "    <tr>\n",
       "      <th>3</th>\n",
       "      <td>4</td>\n",
       "      <td>1</td>\n",
       "      <td>1</td>\n",
       "      <td>Futrelle, Mrs. Jacques Heath (Lily May Peel)</td>\n",
       "      <td>female</td>\n",
       "      <td>35.0</td>\n",
       "      <td>1</td>\n",
       "      <td>0</td>\n",
       "      <td>113803</td>\n",
       "      <td>53.1000</td>\n",
       "      <td>C123</td>\n",
       "      <td>S</td>\n",
       "    </tr>\n",
       "    <tr>\n",
       "      <th>4</th>\n",
       "      <td>5</td>\n",
       "      <td>0</td>\n",
       "      <td>3</td>\n",
       "      <td>Allen, Mr. William Henry</td>\n",
       "      <td>male</td>\n",
       "      <td>35.0</td>\n",
       "      <td>0</td>\n",
       "      <td>0</td>\n",
       "      <td>373450</td>\n",
       "      <td>8.0500</td>\n",
       "      <td>NaN</td>\n",
       "      <td>S</td>\n",
       "    </tr>\n",
       "  </tbody>\n",
       "</table>\n",
       "</div>"
      ],
      "text/plain": [
       "   PassengerId  Survived  Pclass  \\\n",
       "0            1         0       3   \n",
       "1            2         1       1   \n",
       "2            3         1       3   \n",
       "3            4         1       1   \n",
       "4            5         0       3   \n",
       "\n",
       "                                                Name     Sex   Age  SibSp  \\\n",
       "0                            Braund, Mr. Owen Harris    male  22.0      1   \n",
       "1  Cumings, Mrs. John Bradley (Florence Briggs Th...  female  38.0      1   \n",
       "2                             Heikkinen, Miss. Laina  female  26.0      0   \n",
       "3       Futrelle, Mrs. Jacques Heath (Lily May Peel)  female  35.0      1   \n",
       "4                           Allen, Mr. William Henry    male  35.0      0   \n",
       "\n",
       "   Parch            Ticket     Fare Cabin Embarked  \n",
       "0      0         A/5 21171   7.2500   NaN        S  \n",
       "1      0          PC 17599  71.2833   C85        C  \n",
       "2      0  STON/O2. 3101282   7.9250   NaN        S  \n",
       "3      0            113803  53.1000  C123        S  \n",
       "4      0            373450   8.0500   NaN        S  "
      ]
     },
     "execution_count": 10,
     "metadata": {},
     "output_type": "execute_result"
    }
   ],
   "source": [
    "agesex_df.head()"
   ]
  },
  {
   "cell_type": "markdown",
   "metadata": {},
   "source": [
    "Now I am going to investigate the survival rate for each age group. "
   ]
  },
  {
   "cell_type": "code",
   "execution_count": 11,
   "metadata": {
    "collapsed": false
   },
   "outputs": [],
   "source": [
    "non_survived_df = agesex_df[agesex_df['Survived'] == 0]\n",
    "survived_df = agesex_df[agesex_df['Survived'] == 1]"
   ]
  },
  {
   "cell_type": "code",
   "execution_count": 12,
   "metadata": {
    "collapsed": false
   },
   "outputs": [],
   "source": [
    "def plot_survived(df,is_survival):\n",
    "    df.hist(column = 'Age',bins = 10, range = (0,80))\n",
    "    title = 'Age distribution of' + is_survival + ' passengers'\n",
    "    plt.title(title)\n",
    "    plt.xlabel('Age(Years)')\n",
    "    plt.ylabel('Count')\n",
    "    plt.ylim((0,120))"
   ]
  },
  {
   "cell_type": "code",
   "execution_count": 13,
   "metadata": {
    "collapsed": false
   },
   "outputs": [
    {
     "data": {
      "image/png": "[encoded data removed]",
      "text/plain": [
       "<matplotlib.figure.Figure at 0x4603128>"
      ]
     },
     "metadata": {},
     "output_type": "display_data"
    },
    {
     "data": {
      "image/png": "[encoded data removed]",
      "text/plain": [
       "<matplotlib.figure.Figure at 0xc1964e0>"
      ]
     },
     "metadata": {},
     "output_type": "display_data"
    }
   ],
   "source": [
    "plot_survived(non_survived_df,' non-survived')\n",
    "plot_survived(survived_df,' survived')"
   ]
  },
  {
   "cell_type": "markdown",
   "metadata": {},
   "source": [
    "It seems non-survived passengers tend to have a older age distribution.To better understand this, I will investigate the survival rate for each age group given the wide range distribution. "
   ]
  },
  {
   "cell_type": "code",
   "execution_count": 14,
   "metadata": {
    "collapsed": false
   },
   "outputs": [
    {
     "data": {
      "text/html": [
       "<div>\n",
       "<table border=\"1\" class=\"dataframe\">\n",
       "  <thead>\n",
       "    <tr style=\"text-align: right;\">\n",
       "      <th></th>\n",
       "      <th>PassengerId</th>\n",
       "      <th>Survived</th>\n",
       "      <th>Pclass</th>\n",
       "      <th>Name</th>\n",
       "      <th>Sex</th>\n",
       "      <th>Age</th>\n",
       "      <th>SibSp</th>\n",
       "      <th>Parch</th>\n",
       "      <th>Ticket</th>\n",
       "      <th>Fare</th>\n",
       "      <th>Cabin</th>\n",
       "      <th>Embarked</th>\n",
       "    </tr>\n",
       "    <tr>\n",
       "      <th>Age</th>\n",
       "      <th></th>\n",
       "      <th></th>\n",
       "      <th></th>\n",
       "      <th></th>\n",
       "      <th></th>\n",
       "      <th></th>\n",
       "      <th></th>\n",
       "      <th></th>\n",
       "      <th></th>\n",
       "      <th></th>\n",
       "      <th></th>\n",
       "      <th></th>\n",
       "    </tr>\n",
       "  </thead>\n",
       "  <tbody>\n",
       "    <tr>\n",
       "      <th>(0, 10]</th>\n",
       "      <td>64</td>\n",
       "      <td>64</td>\n",
       "      <td>64</td>\n",
       "      <td>64</td>\n",
       "      <td>64</td>\n",
       "      <td>64</td>\n",
       "      <td>64</td>\n",
       "      <td>64</td>\n",
       "      <td>64</td>\n",
       "      <td>64</td>\n",
       "      <td>10</td>\n",
       "      <td>64</td>\n",
       "    </tr>\n",
       "    <tr>\n",
       "      <th>(10, 20]</th>\n",
       "      <td>115</td>\n",
       "      <td>115</td>\n",
       "      <td>115</td>\n",
       "      <td>115</td>\n",
       "      <td>115</td>\n",
       "      <td>115</td>\n",
       "      <td>115</td>\n",
       "      <td>115</td>\n",
       "      <td>115</td>\n",
       "      <td>115</td>\n",
       "      <td>19</td>\n",
       "      <td>115</td>\n",
       "    </tr>\n",
       "    <tr>\n",
       "      <th>(20, 30]</th>\n",
       "      <td>230</td>\n",
       "      <td>230</td>\n",
       "      <td>230</td>\n",
       "      <td>230</td>\n",
       "      <td>230</td>\n",
       "      <td>230</td>\n",
       "      <td>230</td>\n",
       "      <td>230</td>\n",
       "      <td>230</td>\n",
       "      <td>230</td>\n",
       "      <td>40</td>\n",
       "      <td>230</td>\n",
       "    </tr>\n",
       "    <tr>\n",
       "      <th>(30, 40]</th>\n",
       "      <td>155</td>\n",
       "      <td>155</td>\n",
       "      <td>155</td>\n",
       "      <td>155</td>\n",
       "      <td>155</td>\n",
       "      <td>155</td>\n",
       "      <td>155</td>\n",
       "      <td>155</td>\n",
       "      <td>155</td>\n",
       "      <td>155</td>\n",
       "      <td>50</td>\n",
       "      <td>154</td>\n",
       "    </tr>\n",
       "    <tr>\n",
       "      <th>(40, 50]</th>\n",
       "      <td>86</td>\n",
       "      <td>86</td>\n",
       "      <td>86</td>\n",
       "      <td>86</td>\n",
       "      <td>86</td>\n",
       "      <td>86</td>\n",
       "      <td>86</td>\n",
       "      <td>86</td>\n",
       "      <td>86</td>\n",
       "      <td>86</td>\n",
       "      <td>33</td>\n",
       "      <td>86</td>\n",
       "    </tr>\n",
       "    <tr>\n",
       "      <th>(50, 60]</th>\n",
       "      <td>42</td>\n",
       "      <td>42</td>\n",
       "      <td>42</td>\n",
       "      <td>42</td>\n",
       "      <td>42</td>\n",
       "      <td>42</td>\n",
       "      <td>42</td>\n",
       "      <td>42</td>\n",
       "      <td>42</td>\n",
       "      <td>42</td>\n",
       "      <td>22</td>\n",
       "      <td>42</td>\n",
       "    </tr>\n",
       "    <tr>\n",
       "      <th>(60, 70]</th>\n",
       "      <td>17</td>\n",
       "      <td>17</td>\n",
       "      <td>17</td>\n",
       "      <td>17</td>\n",
       "      <td>17</td>\n",
       "      <td>17</td>\n",
       "      <td>17</td>\n",
       "      <td>17</td>\n",
       "      <td>17</td>\n",
       "      <td>17</td>\n",
       "      <td>9</td>\n",
       "      <td>16</td>\n",
       "    </tr>\n",
       "    <tr>\n",
       "      <th>(70, 80]</th>\n",
       "      <td>5</td>\n",
       "      <td>5</td>\n",
       "      <td>5</td>\n",
       "      <td>5</td>\n",
       "      <td>5</td>\n",
       "      <td>5</td>\n",
       "      <td>5</td>\n",
       "      <td>5</td>\n",
       "      <td>5</td>\n",
       "      <td>5</td>\n",
       "      <td>2</td>\n",
       "      <td>5</td>\n",
       "    </tr>\n",
       "  </tbody>\n",
       "</table>\n",
       "</div>"
      ],
      "text/plain": [
       "          PassengerId  Survived  Pclass  Name  Sex  Age  SibSp  Parch  Ticket  \\\n",
       "Age                                                                             \n",
       "(0, 10]            64        64      64    64   64   64     64     64      64   \n",
       "(10, 20]          115       115     115   115  115  115    115    115     115   \n",
       "(20, 30]          230       230     230   230  230  230    230    230     230   \n",
       "(30, 40]          155       155     155   155  155  155    155    155     155   \n",
       "(40, 50]           86        86      86    86   86   86     86     86      86   \n",
       "(50, 60]           42        42      42    42   42   42     42     42      42   \n",
       "(60, 70]           17        17      17    17   17   17     17     17      17   \n",
       "(70, 80]            5         5       5     5    5    5      5      5       5   \n",
       "\n",
       "          Fare  Cabin  Embarked  \n",
       "Age                              \n",
       "(0, 10]     64     10        64  \n",
       "(10, 20]   115     19       115  \n",
       "(20, 30]   230     40       230  \n",
       "(30, 40]   155     50       154  \n",
       "(40, 50]    86     33        86  \n",
       "(50, 60]    42     22        42  \n",
       "(60, 70]    17      9        16  \n",
       "(70, 80]     5      2         5  "
      ]
     },
     "execution_count": 14,
     "metadata": {},
     "output_type": "execute_result"
    }
   ],
   "source": [
    "bins= np.array([0,10,20,30,40,50,60,70,80])\n",
    "age_bins = pd.cut(agesex_df['Age'], bins) # Return indices of half-open bins to which each value of x belongs.\n",
    "agesex_df.groupby(age_bins).count()"
   ]
  },
  {
   "cell_type": "code",
   "execution_count": 15,
   "metadata": {
    "collapsed": false
   },
   "outputs": [
    {
     "name": "stdout",
     "output_type": "stream",
     "text": [
      "Age\n",
      "(0, 10]      64\n",
      "(10, 20]    115\n",
      "(20, 30]    230\n",
      "(30, 40]    155\n",
      "(40, 50]     86\n",
      "(50, 60]     42\n",
      "(60, 70]     17\n",
      "(70, 80]      5\n",
      "Name: PassengerId, dtype: int64\n"
     ]
    }
   ],
   "source": [
    "counts = agesex_df.groupby(age_bins)['PassengerId'].count()\n",
    "print counts"
   ]
  },
  {
   "cell_type": "code",
   "execution_count": 16,
   "metadata": {
    "collapsed": false
   },
   "outputs": [
    {
     "data": {
      "text/plain": [
       "<matplotlib.text.Text at 0xc550cf8>"
      ]
     },
     "execution_count": 16,
     "metadata": {},
     "output_type": "execute_result"
    },
    {
     "data": {
      "image/png": "[encoded data removed]",
      "text/plain": [
       "<matplotlib.figure.Figure at 0xc5d7d30>"
      ]
     },
     "metadata": {},
     "output_type": "display_data"
    }
   ],
   "source": [
    "plt.pie(counts, autopct='%1.1f%%')\n",
    "\n",
    "plt.axis('equal')\n",
    "labels = ['0-10','10-20','20-30','30-40','40-50','50-60','60-70','70-80']\n",
    "plt.legend(labels, loc=6)\n",
    "plt.title('Percentage of passengers in age groups')"
   ]
  },
  {
   "cell_type": "code",
   "execution_count": 17,
   "metadata": {
    "collapsed": false
   },
   "outputs": [
    {
     "data": {
      "text/plain": [
       "<matplotlib.text.Text at 0xcaf3f98>"
      ]
     },
     "execution_count": 17,
     "metadata": {},
     "output_type": "execute_result"
    },
    {
     "data": {
      "image/png": "[encoded data removed]",
      "text/plain": [
       "<matplotlib.figure.Figure at 0xcacadd8>"
      ]
     },
     "metadata": {},
     "output_type": "display_data"
    }
   ],
   "source": [
    "n_groups = 8\n",
    "index = np.arange(n_groups)\n",
    "\n",
    "means = agesex_df.groupby(age_bins)['Survived'].mean()\n",
    "plt.bar(index, means)\n",
    "\n",
    "bar_width = 0.5\n",
    "\n",
    "labels = ['0-10','10-20','20-30','30-40','40-50','50-60','60-70','70-80']\n",
    "plt.xticks(index + bar_width, labels)\n",
    "\n",
    "plt.title('Survival rate for different age groups')\n",
    "plt.xlabel('Age group')\n",
    "plt.ylabel('Survival rate')"
   ]
  },
  {
   "cell_type": "markdown",
   "metadata": {},
   "source": [
    "So it seems people age 0-10 years old, namely children, have the highest survival rate, about 60%. Old people (age 60+) have the lowest survival rate about 20%.\n",
    "\n",
    "The reasons why old people have the lowest survival rate may be\n",
    "1) old people are not physically flexible and strong as younger people, thus may not be able to rescue themselves in the havoc of sinking\n",
    "2) old people may sacrifice themselves to save other people.\n",
    "\n",
    "The reasons why children have the highest survival rate may be\n",
    "1) people think children are the future and hope, and tend to prioritize and save children first\n",
    "2) children are lighter in weight and smaller in size, thus more children can be fit in a lifeboat\n",
    "3) i notice that Parch column the average number of parents on board is the highest for children. if a child travels with his/her parent, it is more likely that this child will be saved by the parent. "
   ]
  },
  {
   "cell_type": "code",
   "execution_count": 18,
   "metadata": {
    "collapsed": false
   },
   "outputs": [
    {
     "data": {
      "text/plain": [
       "([<matplotlib.axis.XTick at 0xcb0f4e0>,\n",
       "  <matplotlib.axis.XTick at 0xc9a5940>,\n",
       "  <matplotlib.axis.XTick at 0xc7edcf8>],\n",
       " <a list of 3 Text xticklabel objects>)"
      ]
     },
     "execution_count": 18,
     "metadata": {},
     "output_type": "execute_result"
    },
    {
     "data": {
      "image/png": "[encoded data removed]",
      "text/plain": [
       "<matplotlib.figure.Figure at 0xccb8438>"
      ]
     },
     "metadata": {},
     "output_type": "display_data"
    }
   ],
   "source": [
    "children_df = agesex_df[agesex_df['Age'] <= 10]\n",
    "number_of_children = children_df['PassengerId'].count()\n",
    "children_df['Parch'].hist(bins=np.arange(4) - 0.5) # align x tick to the center\n",
    "plt.title('Number of parents for children age 0-10')\n",
    "plt.xlabel('Number of parents')\n",
    "plt.ylabel('Count')\n",
    "plt.xticks(range(3))"
   ]
  },
  {
   "cell_type": "markdown",
   "metadata": {},
   "source": [
    "As we can see, most children have 1 or 2 parents traveling together, only one child doesn't. This child may travel with someone other relatives or friends, or the parent information is missing. Next I wonder if the number of parents or siblings is related to the survival rate of children."
   ]
  },
  {
   "cell_type": "code",
   "execution_count": 19,
   "metadata": {
    "collapsed": false
   },
   "outputs": [
    {
     "data": {
      "text/html": [
       "<div>\n",
       "<table border=\"1\" class=\"dataframe\">\n",
       "  <thead>\n",
       "    <tr style=\"text-align: right;\">\n",
       "      <th></th>\n",
       "      <th>PassengerId</th>\n",
       "      <th>Pclass</th>\n",
       "      <th>Age</th>\n",
       "      <th>SibSp</th>\n",
       "      <th>Parch</th>\n",
       "      <th>Fare</th>\n",
       "    </tr>\n",
       "    <tr>\n",
       "      <th>Survived</th>\n",
       "      <th></th>\n",
       "      <th></th>\n",
       "      <th></th>\n",
       "      <th></th>\n",
       "      <th></th>\n",
       "      <th></th>\n",
       "    </tr>\n",
       "  </thead>\n",
       "  <tbody>\n",
       "    <tr>\n",
       "      <th>0</th>\n",
       "      <td>391.153846</td>\n",
       "      <td>2.923077</td>\n",
       "      <td>5.423077</td>\n",
       "      <td>3.192308</td>\n",
       "      <td>1.538462</td>\n",
       "      <td>34.479165</td>\n",
       "    </tr>\n",
       "    <tr>\n",
       "      <th>1</th>\n",
       "      <td>458.000000</td>\n",
       "      <td>2.447368</td>\n",
       "      <td>3.478158</td>\n",
       "      <td>0.921053</td>\n",
       "      <td>1.342105</td>\n",
       "      <td>27.666995</td>\n",
       "    </tr>\n",
       "  </tbody>\n",
       "</table>\n",
       "</div>"
      ],
      "text/plain": [
       "          PassengerId    Pclass       Age     SibSp     Parch       Fare\n",
       "Survived                                                                \n",
       "0          391.153846  2.923077  5.423077  3.192308  1.538462  34.479165\n",
       "1          458.000000  2.447368  3.478158  0.921053  1.342105  27.666995"
      ]
     },
     "execution_count": 19,
     "metadata": {},
     "output_type": "execute_result"
    }
   ],
   "source": [
    "children_df.groupby('Survived').mean()"
   ]
  },
  {
   "cell_type": "markdown",
   "metadata": {},
   "source": [
    "Non-survived children have a much higher number of siblings. This may be because when there are many siblings, a single child may not get as much attention and care as those with fewer siblings. \n",
    "The average number of parents do not differ in survived and nonsurvived group, because almost all children traveled with parents. "
   ]
  },
  {
   "cell_type": "markdown",
   "metadata": {},
   "source": [
    "While there is not much different in survival rate from age 10-60, I wonder whether male or female have a higher survival rate for passengers age 20-60, namely adults. Passengers age 10-20 are teenagers, which I will not include in this analysis. Passengers older than 60 have much lower survival rate than other age groups and are not not included in the adult dataset. "
   ]
  },
  {
   "cell_type": "code",
   "execution_count": 20,
   "metadata": {
    "collapsed": false
   },
   "outputs": [
    {
     "name": "stdout",
     "output_type": "stream",
     "text": [
      "513\n"
     ]
    }
   ],
   "source": [
    "adult_df20 = agesex_df[agesex_df['Age'] > 20]\n",
    "adult_df = adult_df20[adult_df20['Age'] <=60] # age 20-60\n",
    "number_of_adult = adult_df['PassengerId'].count()\n",
    "print number_of_adult"
   ]
  },
  {
   "cell_type": "code",
   "execution_count": 21,
   "metadata": {
    "collapsed": false
   },
   "outputs": [],
   "source": [
    "female_df = adult_df[adult_df['Sex']=='female']\n",
    "male_df = adult_df[adult_df['Sex']=='male']\n",
    "assert number_of_adult == female_df['PassengerId'].count() + male_df['PassengerId'].count()"
   ]
  },
  {
   "cell_type": "code",
   "execution_count": 22,
   "metadata": {
    "collapsed": false
   },
   "outputs": [
    {
     "data": {
      "text/plain": [
       "([<matplotlib.axis.XTick at 0xc7de048>, <matplotlib.axis.XTick at 0xccb8550>],\n",
       " <a list of 2 Text xticklabel objects>)"
      ]
     },
     "execution_count": 22,
     "metadata": {},
     "output_type": "execute_result"
    },
    {
     "data": {
      "image/png": "[encoded data removed]",
      "text/plain": [
       "<matplotlib.figure.Figure at 0xc7fa160>"
      ]
     },
     "metadata": {},
     "output_type": "display_data"
    }
   ],
   "source": [
    "y = adult_df.groupby('Sex')['Survived'].mean()\n",
    "\n",
    "plt.bar((1,2),y,align='center')\n",
    "\n",
    "plt.title('Survival rate for female and male passengers')\n",
    "plt.ylabel('Survical rate')\n",
    "my_xticks = ('Female','Male')\n",
    "plt.xticks((1,2),my_xticks)"
   ]
  },
  {
   "cell_type": "markdown",
   "metadata": {},
   "source": [
    "So far, it seems that females passengers tend to have a higher survival rate (about 0.8) than male (about 0.2). From the titanic_df mean value, it seems that people who survived had a higher socio-economic status, indicated by higher Fare and high class (low Pclass value). Here I will focus on the age group 20-60 to better understand sex, class and survival rate"
   ]
  },
  {
   "cell_type": "code",
   "execution_count": 23,
   "metadata": {
    "collapsed": false
   },
   "outputs": [
    {
     "data": {
      "text/plain": [
       "Pclass\n",
       "1    151\n",
       "2    135\n",
       "3    227\n",
       "Name: Survived, dtype: int64"
      ]
     },
     "execution_count": 23,
     "metadata": {},
     "output_type": "execute_result"
    }
   ],
   "source": [
    "adult_df.groupby('Pclass')['Survived'].count()"
   ]
  },
  {
   "cell_type": "code",
   "execution_count": 24,
   "metadata": {
    "collapsed": false
   },
   "outputs": [
    {
     "data": {
      "text/plain": [
       "<matplotlib.text.Text at 0xc474d30>"
      ]
     },
     "execution_count": 24,
     "metadata": {},
     "output_type": "execute_result"
    },
    {
     "data": {
      "image/png": "[encoded data removed]",
      "text/plain": [
       "<matplotlib.figure.Figure at 0xc1f2940>"
      ]
     },
     "metadata": {},
     "output_type": "display_data"
    }
   ],
   "source": [
    "survival_per_class = adult_df.groupby('Pclass')['Survived'].mean()\n",
    "\n",
    "survival_per_class.plot.bar()\n",
    "plt.xticks(range(3),['Upper','Middle','Lower'],rotation = 0)\n",
    "\n",
    "plt.suptitle('Survival rate of different passenger classes age 20-60')\n",
    "plt.ylabel('Survival rate')\n",
    "plt.xlabel('Passenger class')"
   ]
  },
  {
   "cell_type": "markdown",
   "metadata": {},
   "source": [
    "It is clear that adult passengers with higher class have a much higher survival rate. This may be due to the fact that upper class passengers may be able to get on the lifeboats first, their cabins may be located closer to the safety exit, the safety equipment and supply is their cabin is better than lower class cabin. The class is also reflected by the fare, and upper class tend to pay higher fares. "
   ]
  },
  {
   "cell_type": "code",
   "execution_count": 25,
   "metadata": {
    "collapsed": false
   },
   "outputs": [],
   "source": [
    "Upper_df = adult_df[adult_df['Pclass'] == 1]\n",
    "Middle_df = adult_df[adult_df['Pclass'] == 2]\n",
    "Lower_df= adult_df[adult_df['Pclass'] == 3]"
   ]
  },
  {
   "cell_type": "code",
   "execution_count": 26,
   "metadata": {
    "collapsed": false
   },
   "outputs": [],
   "source": [
    "def plot_class(df,classname):\n",
    "    df.hist(column = 'Fare',bins = 50, range = (0,600))\n",
    "    title = 'Fare distribution of '+ classname +' class'\n",
    "    plt.title(title)\n",
    "    plt.xlabel('Fare')\n",
    "    plt.ylabel('Count')"
   ]
  },
  {
   "cell_type": "code",
   "execution_count": 27,
   "metadata": {
    "collapsed": false
   },
   "outputs": [
    {
     "data": {
      "image/png": "[encoded data removed]",
      "text/plain": [
       "<matplotlib.figure.Figure at 0xc5c0828>"
      ]
     },
     "metadata": {},
     "output_type": "display_data"
    },
    {
     "data": {
      "image/png": "[encoded data removed]",
      "text/plain": [
       "<matplotlib.figure.Figure at 0xd989fd0>"
      ]
     },
     "metadata": {},
     "output_type": "display_data"
    },
    {
     "data": {
      "image/png": "[encoded data removed]",
      "text/plain": [
       "<matplotlib.figure.Figure at 0xdd65550>"
      ]
     },
     "metadata": {},
     "output_type": "display_data"
    }
   ],
   "source": [
    "plot_class(Upper_df, 'upper')\n",
    "plot_class(Middle_df, 'middle')\n",
    "plot_class(Lower_df, 'lower')"
   ]
  },
  {
   "cell_type": "markdown",
   "metadata": {},
   "source": [
    "It is clear that upper class passengers pay much higher fare than middle and lower class. There is one value in upper class that seems like an outlier (>500). Although there could be extremely expensive first class tickets, it is somewhat unlikely because all other values are below 300. Given that there are 513 passengers in total, the effect of this outlier on overall results would be little. Therefore, I will not remove it in my analysis. "
   ]
  },
  {
   "cell_type": "markdown",
   "metadata": {},
   "source": [
    "I will now calculate the survival rate for different sexes and classes. "
   ]
  },
  {
   "cell_type": "code",
   "execution_count": 28,
   "metadata": {
    "collapsed": false
   },
   "outputs": [
    {
     "name": "stdout",
     "output_type": "stream",
     "text": [
      "Pclass  Sex   \n",
      "1       female     69\n",
      "        male       82\n",
      "2       female     58\n",
      "        male       77\n",
      "3       female     54\n",
      "        male      173\n",
      "Name: Survived, dtype: int64\n"
     ]
    }
   ],
   "source": [
    "survival_per_class_sex= adult_df.groupby(['Pclass','Sex'])['Survived'].count()\n",
    "print survival_per_class_sex"
   ]
  },
  {
   "cell_type": "code",
   "execution_count": 29,
   "metadata": {
    "collapsed": false
   },
   "outputs": [
    {
     "name": "stdout",
     "output_type": "stream",
     "text": [
      "Pclass         1         2         3\n",
      "female  0.971014  0.896552  0.407407\n",
      "male    0.426829  0.051948  0.132948\n"
     ]
    }
   ],
   "source": [
    "pd1 = female_df.groupby('Pclass')['Survived'].mean()\n",
    "pd2 = male_df.groupby('Pclass')['Survived'].mean()\n",
    "data = {'female':pd1,'male':pd2}\n",
    "class_sex_df = pd.DataFrame(data)\n",
    "class_sex_df = class_sex_df.transpose()\n",
    "print class_sex_df"
   ]
  },
  {
   "cell_type": "code",
   "execution_count": 30,
   "metadata": {
    "collapsed": false
   },
   "outputs": [
    {
     "data": {
      "text/plain": [
       "<matplotlib.colorbar.Colorbar at 0xe8a75c0>"
      ]
     },
     "execution_count": 30,
     "metadata": {},
     "output_type": "execute_result"
    },
    {
     "data": {
      "image/png": "[encoded data removed]",
      "text/plain": [
       "<matplotlib.figure.Figure at 0xe1cf0b8>"
      ]
     },
     "metadata": {},
     "output_type": "display_data"
    }
   ],
   "source": [
    "heatmap = class_sex_df #date from dataframe\n",
    "plt.figure(figsize = (10,10))\n",
    "\n",
    "plt.imshow(heatmap, cmap=plt.cm.Blues, interpolation='nearest') #color scheme is gray scale\n",
    "\n",
    "plt.title('Survival rate for different classes and sexs of passengers age 20-60')\n",
    "plt.xticks(range(3),['Upper','Middle','Lower'])\n",
    "plt.yticks(range(2),['Female','Male'])\n",
    "plt.grid(False)\n",
    "\n",
    "\n",
    "plt.colorbar()"
   ]
  },
  {
   "cell_type": "markdown",
   "metadata": {},
   "source": [
    "This heatmap shows that upper class female adult passengers age 20-60 have the highest survival rate of 97%, while middle class and lower class male passengers have low survival rate below 20%."
   ]
  },
  {
   "cell_type": "markdown",
   "metadata": {},
   "source": [
    "## 3. Conclusion"
   ]
  },
  {
   "cell_type": "markdown",
   "metadata": {},
   "source": [
    "In conclusion, I report that passengers with higher socio-economic status and higher fares are more likely to survive. This may be related to the cabin equipment, location, safety setup, rescue priority.\n",
    "\n",
    "The demographic features of survived passengers show \n",
    "\n",
    "1) children age 0-10 have the highest survival rate, and children with more siblings have lower survival rate. To further investigate whether parents tend to sacrifice themselves for the life of their children, whether they tend to die together with children, or whether they tend to live together with children, we could look at the Name column and check whether there is any correlation in the lastnames of children and adults survived or non survived. \n",
    "\n",
    "2) people older than 60 have the lowest survival rate. Inspired by one of the scenes in the movie Titanic in which an old coupld cuddled and died together, I'd like to further investigate whether couples would die together and whether this is age dependent.\n",
    "\n",
    "3) female passengers have higher survival rate than male. And I would like to further explore whether single women or married women have a higher survival rate, and whether husbands tend to sacrifice themselves for their wifes. \n",
    "\n",
    "These findings conclude that children and upper class female are more likely to survive in Titanic.\n",
    "\n",
    "Limitation: There were 2224 passengers on Titanic and only 891 passengers records are available in this dataset. Depending on how the data was collected, the concludion drawn from the sample may not represent the population and may have survival bias. "
   ]
  },
  {
   "cell_type": "markdown",
   "metadata": {},
   "source": [
    "## 4. References"
   ]
  },
  {
   "cell_type": "markdown",
   "metadata": {},
   "source": [
    "1) https://docs.scipy.org/doc/scipy/reference/stats.html\n",
    "2) http://stackoverflow.com/questions/13404468/t-test-in-pandas-python\n",
    "3) http://stackoverflow.com/questions/3100985/plot-with-custom-text-for-x-axis-points\n",
    "4) http://matplotlib.org/users/pyplot_tutorial.html\n",
    "5) http://pandas.pydata.org/pandas-docs/stable/generated/pandas.DataFrame.hist.html\n",
    "6) http://pandas.pydata.org/pandas-docs/stable/missing_data.html\n",
    "7) http://stackoverflow.com/questions/16947336/binning-a-dataframe-in-pandas-in-python\n",
    "8) http://matplotlib.org/examples/ticks_and_spines/spines_demo_dropped.html"
   ]
  }
 ],
 "metadata": {
  "anaconda-cloud": {},
  "kernelspec": {
   "display_name": "Python [default]",
   "language": "python",
   "name": "python2"
  },
  "language_info": {
   "codemirror_mode": {
    "name": "ipython",
    "version": 2
   },
   "file_extension": ".py",
   "mimetype": "text/x-python",
   "name": "python",
   "nbconvert_exporter": "python",
   "pygments_lexer": "ipython2",
   "version": "2.7.12"
  }
 },
 "nbformat": 4,
 "nbformat_minor": 1
}
